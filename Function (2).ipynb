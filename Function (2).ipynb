{
  "nbformat": 4,
  "nbformat_minor": 0,
  "metadata": {
    "colab": {
      "private_outputs": true,
      "provenance": []
    },
    "kernelspec": {
      "name": "python3",
      "display_name": "Python 3"
    },
    "language_info": {
      "name": "python"
    }
  },
  "cells": [
    {
      "cell_type": "markdown",
      "source": [
        "PRACTICAL QUESTION"
      ],
      "metadata": {
        "id": "9WcKEG6_oT6f"
      }
    },
    {
      "cell_type": "markdown",
      "source": [
        "Ques1) Write a Python function that takes a list of numbers as input and returns the sum of all even numbers in\n",
        "the list."
      ],
      "metadata": {
        "id": "v_O1fqIIobhG"
      }
    },
    {
      "cell_type": "code",
      "source": [
        "def sum_of_even(a):\n",
        "    sum=0\n",
        "    for i in a:\n",
        "        if i % 2==0:\n",
        "            sum=sum+i\n",
        "    return sum\n",
        "\n"
      ],
      "metadata": {
        "id": "E9rcI1rSoqr-"
      },
      "execution_count": null,
      "outputs": []
    },
    {
      "cell_type": "code",
      "source": [
        "sum_of_even([1,4,5,6,7,8,10])"
      ],
      "metadata": {
        "id": "Fu8F7eduv6wP"
      },
      "execution_count": null,
      "outputs": []
    },
    {
      "cell_type": "markdown",
      "source": [
        " Ques2) Create a Python function that accepts a string and returns the reverse of that string."
      ],
      "metadata": {
        "id": "KVE8q95IR6nM"
      }
    },
    {
      "cell_type": "code",
      "source": [
        "def reverse_of_string(text):\n",
        "    return text[::-1]\n",
        "reverse_of_string(\"jitender\")"
      ],
      "metadata": {
        "id": "ckt7wWnlR9Pk"
      },
      "execution_count": null,
      "outputs": []
    },
    {
      "cell_type": "markdown",
      "source": [
        "Ques3)Implement a Python function that takes a list of integers and returns a new list containing the squares of each number"
      ],
      "metadata": {
        "id": "nDXcYAAfkISm"
      }
    },
    {
      "cell_type": "code",
      "source": [
        "def square_of_no(num):\n",
        "  lis=[]\n",
        "  for i in num:\n",
        "    lis.append(i**2)\n",
        "  return lis\n"
      ],
      "metadata": {
        "id": "tPWSxiSWgsoB"
      },
      "execution_count": null,
      "outputs": []
    },
    {
      "cell_type": "code",
      "source": [
        "square_of_no([1,2,3,4,5])"
      ],
      "metadata": {
        "id": "6utU1vA4iyGn"
      },
      "execution_count": null,
      "outputs": []
    },
    {
      "cell_type": "markdown",
      "source": [
        "Ques4)Write a Python function that checks if a given number is prime or not from 1 to 200."
      ],
      "metadata": {
        "id": "j6xmrvRlj_xT"
      }
    },
    {
      "cell_type": "code",
      "source": [
        "def is_prime(num):\n",
        "    if num <= 1:\n",
        "        return False  # 0 and 1 are not prime\n",
        "    for i in range(2, int(num ** 0.5) + 1):\n",
        "        if num % i == 0:\n",
        "            return False  # Divisible by some number\n",
        "    return True  # Prime if no divisors found\n",
        "\n",
        "# Check and print primes from 1 to 200\n",
        "for number in range(1, 201):\n",
        "    if is_prime(number):\n",
        "        print(f\"{number} is a Prime number\")\n",
        "    else:\n",
        "        print(f\"{number} is not a Prime number\")\n"
      ],
      "metadata": {
        "id": "sZhwq86JuvV_"
      },
      "execution_count": null,
      "outputs": []
    },
    {
      "cell_type": "markdown",
      "source": [
        "Ques5)Create an iterator class in Python that generates the Fibonacci sequence up to a specified number of terms."
      ],
      "metadata": {
        "id": "hWsl_pn3PQIR"
      }
    },
    {
      "cell_type": "code",
      "source": [
        "def fibo(n):\n",
        "  a=0\n",
        "  b=1\n",
        "  for  i in range(n):\n",
        "    yield a\n",
        "    a,b=b,a+b\n"
      ],
      "metadata": {
        "id": "onzWg703R0ra"
      },
      "execution_count": null,
      "outputs": []
    },
    {
      "cell_type": "code",
      "source": [
        "f=fibo(21)\n",
        "f"
      ],
      "metadata": {
        "id": "Bp7IeWtZVU6-"
      },
      "execution_count": null,
      "outputs": []
    },
    {
      "cell_type": "code",
      "source": [
        "next(f)"
      ],
      "metadata": {
        "id": "S3-FTbjhVVOL"
      },
      "execution_count": null,
      "outputs": []
    },
    {
      "cell_type": "code",
      "source": [
        "next(f)"
      ],
      "metadata": {
        "id": "3XycL2RAVl8H"
      },
      "execution_count": null,
      "outputs": []
    },
    {
      "cell_type": "code",
      "source": [
        "next(f)"
      ],
      "metadata": {
        "id": "sXXqQeL9Vl_-"
      },
      "execution_count": null,
      "outputs": []
    },
    {
      "cell_type": "code",
      "source": [
        "next(f)"
      ],
      "metadata": {
        "id": "YckTU_JBVmIP"
      },
      "execution_count": null,
      "outputs": []
    },
    {
      "cell_type": "code",
      "source": [
        "next(f)"
      ],
      "metadata": {
        "id": "vfImrKLzVmL4"
      },
      "execution_count": null,
      "outputs": []
    },
    {
      "cell_type": "code",
      "source": [
        "next(f)"
      ],
      "metadata": {
        "id": "B7t1CnzQVmTH"
      },
      "execution_count": null,
      "outputs": []
    },
    {
      "cell_type": "markdown",
      "source": [
        "Ques6) write a generator function in Python that yields the powers of 2 up to a given exponent."
      ],
      "metadata": {
        "id": "Yl94jTHRWGSy"
      }
    },
    {
      "cell_type": "code",
      "source": [
        "def power(num):\n",
        "  for i in range(num):\n",
        "    yield 2**i"
      ],
      "metadata": {
        "id": "iCJ5CwjvWdgo"
      },
      "execution_count": null,
      "outputs": []
    },
    {
      "cell_type": "code",
      "source": [
        "power(6)"
      ],
      "metadata": {
        "id": "54DBu2g_XGu-"
      },
      "execution_count": null,
      "outputs": []
    },
    {
      "cell_type": "code",
      "source": [
        "gen=power(6)\n",
        "gen"
      ],
      "metadata": {
        "id": "mRLaBmmYXG7E"
      },
      "execution_count": null,
      "outputs": []
    },
    {
      "cell_type": "code",
      "source": [
        "next(gen)"
      ],
      "metadata": {
        "id": "SigiFHrnXHGi"
      },
      "execution_count": null,
      "outputs": []
    },
    {
      "cell_type": "code",
      "source": [
        "next(gen)"
      ],
      "metadata": {
        "id": "mrRHs5ZDXHSi"
      },
      "execution_count": null,
      "outputs": []
    },
    {
      "cell_type": "code",
      "source": [
        "next(gen)"
      ],
      "metadata": {
        "id": "sYLaoxrde4XZ"
      },
      "execution_count": null,
      "outputs": []
    },
    {
      "cell_type": "code",
      "source": [
        "next(gen)"
      ],
      "metadata": {
        "id": "2evHgJs5e4dx"
      },
      "execution_count": null,
      "outputs": []
    },
    {
      "cell_type": "code",
      "source": [
        "next(gen)"
      ],
      "metadata": {
        "id": "Jjnn6hoAe4gS"
      },
      "execution_count": null,
      "outputs": []
    },
    {
      "cell_type": "code",
      "source": [
        "next(gen)"
      ],
      "metadata": {
        "id": "rW96IApQe4im"
      },
      "execution_count": null,
      "outputs": []
    },
    {
      "cell_type": "markdown",
      "source": [
        "Ques7) Implement a generator function that reads a file line by line and yields each line as a string."
      ],
      "metadata": {
        "id": "gJ3RdY5UkuIN"
      }
    },
    {
      "cell_type": "code",
      "source": [
        "def read_file_line_by_line(file_path):\n",
        "    with open(file_path, 'r') as file:\n",
        "        for line in file:\n",
        "            yield line.rstrip()  # Removes newline character at the end\n"
      ],
      "metadata": {
        "id": "ht7prsEikw98"
      },
      "execution_count": null,
      "outputs": []
    },
    {
      "cell_type": "code",
      "source": [
        "file_path = '/Untitled document.txt'\n",
        "\n",
        "for line in read_file_line_by_line(file_path):\n",
        "    print(line)\n",
        "\n"
      ],
      "metadata": {
        "id": "n1DUvT4peb66"
      },
      "execution_count": null,
      "outputs": []
    },
    {
      "cell_type": "markdown",
      "source": [
        "Ques8)Use a lambda function in Python to sort a list of tuples based on the second element of each tuple."
      ],
      "metadata": {
        "id": "Qg_pQ4G1kxUx"
      }
    },
    {
      "cell_type": "code",
      "source": [
        "lis=[(\"jitnder\",2),(\"ganesh\",3),(\"prem\",1)]\n",
        "sorted_list=sorted(lis,key=lambda x:x[1])\n",
        "sorted_list"
      ],
      "metadata": {
        "id": "z8uv5RBxmc7x"
      },
      "execution_count": null,
      "outputs": []
    },
    {
      "cell_type": "markdown",
      "source": [
        "Ques9) Write a Python program that uses `map()` to convert a list of temperatures from Celsius to Fahrenheit."
      ],
      "metadata": {
        "id": "Tl-Ot-w9k6Sh"
      }
    },
    {
      "cell_type": "code",
      "source": [
        "def c_to_f(celsius_temp):\n",
        "  return (celsius_temp*9/5)+32\n",
        "celsius=[37,38,39,40,31]\n",
        "list(map(c_to_f,celsius))"
      ],
      "metadata": {
        "id": "nS8Aolg5k_pS"
      },
      "execution_count": null,
      "outputs": []
    },
    {
      "cell_type": "markdown",
      "source": [
        "Ques10). Create a Python program that uses `filter()` to remove all the vowels from a given string"
      ],
      "metadata": {
        "id": "Kay4BZQLlAeR"
      }
    },
    {
      "cell_type": "code",
      "source": [
        "def remove_vowels(s):\n",
        "  vowels='aeiouAEIOU'\n",
        "  return \"\".join(filter(lambda x : x not in vowels,s))\n",
        "\n",
        "text=\"Jitender singh rawat\"\n",
        "result=remove_vowels(text)\n",
        "print(result)\n",
        "\n",
        "\n",
        "\n"
      ],
      "metadata": {
        "id": "npXqW5sBvvMU"
      },
      "execution_count": null,
      "outputs": []
    },
    {
      "cell_type": "markdown",
      "source": [
        "Ques11) Imagine an accounting routine used in a book shop. It works on a list with sublists, which look like this:\n",
        "order number  Book Title and Author              Quantity    pice per item\n",
        "34587         Learning Python ,Mark luitz        4           48.95\n",
        "98762         programming python ,mark lutz       5          58.80\n",
        "77226         Head first python,paul barry        3          32.95\n",
        "88112         Einfuhrung in python 3 Bernd Klein  3          24.99\n",
        "\n",
        "\n",
        "\n",
        "Write a Python program, which returns a list with 2-tuples. Each tuple consists of the order number and the product of the price per item and the quantity. The product should be increased by 10,- € if the value of the\n",
        "order is smaller than 100,00 €.\n",
        "\n",
        "Write a Python program using lambda and map."
      ],
      "metadata": {
        "id": "NfdjUyVglG08"
      }
    },
    {
      "cell_type": "code",
      "source": [
        "orders = [\n",
        "    [34587, \"Learning Python, Mark Lutz\", 4, 40.95],\n",
        "    [98762, \"Programming Python, Mark Lutz\", 5, 56.80],\n",
        "    [77226, \"Head First Python, Paul Barry\", 3, 32.95],\n",
        "    [88112, \"Einführung in Python3, Bernd Klein\", 3, 24.99]\n",
        "]\n",
        "\n",
        "\n",
        "# Use map with lambda to calculate total price\n",
        "list(map(lambda x:(x[0],x[2]*x[3]+10 if x[2]*x[3]<100.00 else x[2]*x[3]),orders))"
      ],
      "metadata": {
        "id": "Dp6nr4_-26_S"
      },
      "execution_count": null,
      "outputs": []
    },
    {
      "cell_type": "markdown",
      "source": [
        "THEORY QUESTION"
      ],
      "metadata": {
        "id": "A4Dowg40lDsc"
      }
    },
    {
      "cell_type": "markdown",
      "source": [
        "Ques1)What is the difference between a function and a method in Python"
      ],
      "metadata": {
        "id": "eCZ2ULzalPur"
      }
    },
    {
      "cell_type": "markdown",
      "source": [
        "🔹 Function in Python:\n",
        "A function is a block of reusable code that performs a specific task. It is defined using the def keyword and is not tied to any object or class.\n",
        "\n",
        "Example of a function:"
      ],
      "metadata": {
        "id": "6PFxRr3v-FX_"
      }
    },
    {
      "cell_type": "code",
      "source": [
        "def greet(name):\n",
        "    return f\"Hello, {name}!\"\n",
        "\n",
        "print(greet(\"Jitu\"))  # Output: Hello, Jitu!\n"
      ],
      "metadata": {
        "id": "Tz4lmKy8-Mu4"
      },
      "execution_count": null,
      "outputs": []
    },
    {
      "cell_type": "markdown",
      "source": [
        "n this example, greet is a function that takes a name and returns a greeting message.\n",
        "\n",
        "🔹 Method in Python:\n",
        "A method is a function that is associated with an object. It is defined inside a class and is called on an object of that class. The first argument of a method is usually self, which refers to the instance calling the method.\n",
        "\n",
        "Example of a method:\n",
        "\n",
        "python\n",
        "Copy\n",
        "Edit\n"
      ],
      "metadata": {
        "id": "qTCwxGOG-St5"
      }
    },
    {
      "cell_type": "code",
      "source": [
        "name = \"jitu\"\n",
        "print(name.upper())  # Output: JITU\n"
      ],
      "metadata": {
        "id": "aGq8jfK5-YZf"
      },
      "execution_count": null,
      "outputs": []
    },
    {
      "cell_type": "markdown",
      "source": [
        "Here, upper() is a method of the string object \"jitu\". It acts on that specific string."
      ],
      "metadata": {
        "id": "QwnYX1bW-dpr"
      }
    },
    {
      "cell_type": "markdown",
      "source": [
        "Quesno.2)Explain the concept of function arguments and parameters in Python."
      ],
      "metadata": {
        "id": "ch00y_vpa5u-"
      }
    },
    {
      "cell_type": "markdown",
      "source": [
        "Function Arguments and Parameters in Python\n",
        "🔹 Parameters\n",
        "Parameters are placeholders or variable names defined in the function definition.\n",
        "\n",
        "They define what kind of input the function expects.\n",
        "\n",
        "🔹 Arguments\n",
        "Arguments are the actual values you pass to a function when calling it.\n",
        "\n",
        "They are assigned to the corresponding parameters.\n",
        "\n",
        "🔸 Example:"
      ],
      "metadata": {
        "id": "eP1gdFXQJzvD"
      }
    },
    {
      "cell_type": "code",
      "source": [
        "def greet(name):       # 'name' is a parameter\n",
        "    print(f\"Hello, {name}!\")\n",
        "\n",
        "greet(\"Jitu\")           # \"Jitu\" is an argument\n"
      ],
      "metadata": {
        "id": "5yZ5Pj9x_Hqc"
      },
      "execution_count": null,
      "outputs": []
    },
    {
      "cell_type": "markdown",
      "source": [
        "Here, name is the parameter.\n",
        "\n",
        "\"Jitu\" is the argument passed when the function is called.\n",
        "\n",
        "🔸 Types of Arguments in Python:\n",
        "1. Positional Arguments –based on position."
      ],
      "metadata": {
        "id": "xwMk1gV-_TVw"
      }
    },
    {
      "cell_type": "code",
      "source": [
        "def add(a, b):\n",
        "    return a + b\n",
        "\n",
        "print(add(2, 3))  # 2 and 3 are positional arguments\n"
      ],
      "metadata": {
        "id": "T627PLv__U78"
      },
      "execution_count": null,
      "outputs": []
    },
    {
      "cell_type": "markdown",
      "source": [
        "2.)Keyword Arguments – passed with the parameter name."
      ],
      "metadata": {
        "id": "RGx33KP4AN6h"
      }
    },
    {
      "cell_type": "code",
      "source": [
        "print(add(b=3, a=2))  # Order doesn’t matter here\n"
      ],
      "metadata": {
        "id": "EMx2zPrfAAmn"
      },
      "execution_count": null,
      "outputs": []
    },
    {
      "cell_type": "markdown",
      "source": [
        "3.)Default Arguments – parameters with default values."
      ],
      "metadata": {
        "id": "wjsMakmPAapm"
      }
    },
    {
      "cell_type": "code",
      "source": [
        "def greet(name=\"Guest\"):\n",
        "    print(f\"Hello, {name}!\")\n",
        "\n",
        "greet()           # Uses default value: Guest\n",
        "greet(\"Jitu\")     # Uses passed argument: Jitu\n"
      ],
      "metadata": {
        "id": "-L7BaEHwAieZ"
      },
      "execution_count": null,
      "outputs": []
    },
    {
      "cell_type": "markdown",
      "source": [
        "4)Variable-length Arguments – used when the number of arguments is unknown.\n",
        "\n",
        "*args → multiple positional arguments\n",
        "\n",
        "**kwargs → multiple keyword arguments"
      ],
      "metadata": {
        "id": "OVtGe3OSApg4"
      }
    },
    {
      "cell_type": "code",
      "source": [
        "def show(*args):\n",
        "    for item in args:\n",
        "        print(item)\n",
        "\n",
        "show(1, 2, 3)\n"
      ],
      "metadata": {
        "id": "nyRrDbS7Aw9x"
      },
      "execution_count": null,
      "outputs": []
    },
    {
      "cell_type": "markdown",
      "source": [
        "2.)Keyword Arguments – passed with the parameter name."
      ],
      "metadata": {
        "id": "qj6PtZXg_o8K"
      }
    },
    {
      "cell_type": "markdown",
      "source": [
        "✅ Summary:\n",
        "Parameters = in function definition.\n",
        "\n",
        "Arguments = in function call.\n",
        "\n",
        "Python supports positional, keyword, default, and variable-length arguments."
      ],
      "metadata": {
        "id": "LvKqfLbKA4Lg"
      }
    },
    {
      "cell_type": "markdown",
      "source": [
        "quesno3) What are the different ways to define and call a function in Python?"
      ],
      "metadata": {
        "id": "KVYEIuXQbDy2"
      }
    },
    {
      "cell_type": "markdown",
      "source": [
        "4.) What is the purpose of the `return` statement in a Python function?"
      ],
      "metadata": {
        "id": "bKH7kgr76Gju"
      }
    },
    {
      "cell_type": "markdown",
      "source": [
        "✅ Purpose of the return Statement in Python\n",
        "The return statement is used to send a result or value back from a function to the place where it was called.\n",
        "\n",
        "🔹 Why is return used?\n",
        "To output a value from a function\n",
        "\n",
        "To end the function's execution\n",
        "\n",
        "To use the function’s result in further code\n",
        "\n",
        "🔸 Example 1: Returning a value"
      ],
      "metadata": {
        "id": "WiT01zmgBYYW"
      }
    },
    {
      "cell_type": "code",
      "source": [
        "def add(a, b):\n",
        "    return a + b\n",
        "\n",
        "result = add(5, 3)\n",
        "print(result)   # Output: 8\n"
      ],
      "metadata": {
        "id": "dexI-bknBdKW"
      },
      "execution_count": null,
      "outputs": []
    },
    {
      "cell_type": "markdown",
      "source": [
        "Here, the return sends a + b back to where add() was called, so we can store or print the result.\n",
        "\n",
        "🔸 Example 2: Without return"
      ],
      "metadata": {
        "id": "GaGOuKh2BikM"
      }
    },
    {
      "cell_type": "code",
      "source": [
        "def add(a, b):\n",
        "    print(a + b)\n",
        "\n",
        "result = add(5, 3)   # Output: 8\n",
        "print(result)        # Output: None\n"
      ],
      "metadata": {
        "id": "zLQM-sjMBorF"
      },
      "execution_count": null,
      "outputs": []
    },
    {
      "cell_type": "markdown",
      "source": [
        "Since there’s no return, the function only prints but doesn’t give back a usable value. So result becomes None.\n",
        "\n",
        "🔸 Stopping Execution:"
      ],
      "metadata": {
        "id": "5l3X0OTkBtU5"
      }
    },
    {
      "cell_type": "code",
      "source": [
        "def test():\n",
        "    print(\"Start\")\n",
        "    return\n",
        "    print(\"This won't run\")\n",
        "\n",
        "test()\n",
        "# Output: Start\n"
      ],
      "metadata": {
        "id": "0xZ6aJ9sBxvP"
      },
      "execution_count": null,
      "outputs": []
    },
    {
      "cell_type": "markdown",
      "source": [
        "After return, the function exits immediately."
      ],
      "metadata": {
        "id": "qK-FSxTaB1oJ"
      }
    },
    {
      "cell_type": "markdown",
      "source": [
        "5) What are iterators in Python and how do they differ from iterables?"
      ],
      "metadata": {
        "id": "lj492J936tVV"
      }
    },
    {
      "cell_type": "markdown",
      "source": [
        "✅ Iterables vs Iterators in Python\n",
        "🔹 Iterable:\n",
        "An iterable is any Python object that can be looped over (like in a for loop).\n",
        "\n",
        "Examples: list, tuple, string, set, dict\n",
        "\n",
        "It does not keep track of the current position during iteration.\n",
        "\n",
        "It has a method called __iter__() that returns an iterator.\n",
        "\n",
        "🔹 Iterator:\n",
        "An iterator is an object that represents a stream of data.\n",
        "\n",
        "It remembers its current position while iterating.\n",
        "\n",
        "It has two main methods:\n",
        "\n",
        "__iter__() → returns the iterator itself\n",
        "\n",
        "__next__() → returns the next value, and raises StopIteration when done\n",
        "\n",
        "🔸 Difference in Simple Words:\n",
        "An iterable is like a book — you can read it from the start, again and again.\n",
        "\n",
        "An iterator is like a bookmark — it keeps track of where you are in the book.\n",
        "\n",
        "🔸 Example:\n",
        "python\n",
        "Copy\n",
        "Edit\n"
      ],
      "metadata": {
        "id": "Sqaihr-gCWev"
      }
    },
    {
      "cell_type": "code",
      "source": [
        "# List is iterable\n",
        "nums = [10, 20, 30]\n",
        "\n",
        "# Convert it to an iterator\n",
        "it = iter(nums)\n",
        "\n",
        "print(next(it))  # 10\n",
        "print(next(it))  # 20\n",
        "print(next(it))  # 30\n",
        "print(next(it))  # Error: StopIteration\n"
      ],
      "metadata": {
        "id": "KW_6xHHiCbkk"
      },
      "execution_count": null,
      "outputs": []
    },
    {
      "cell_type": "markdown",
      "source": [
        "nums is an iterable.\n",
        "\n",
        "it is an iterator created using iter(nums).\n",
        "\n",
        "next(it) gives one value at a time."
      ],
      "metadata": {
        "id": "JbkOcQeQCgFw"
      }
    },
    {
      "cell_type": "markdown",
      "source": [
        "ques.6) Explain the concept of generators in Python and how they are defined."
      ],
      "metadata": {
        "id": "FJEqNks77oRC"
      }
    },
    {
      "cell_type": "markdown",
      "source": [
        "✅ What is a Generator in Python?\n",
        "A generator is a special type of function that yields values one at a time using the yield keyword instead of returning all the values at once.\n",
        "\n",
        "Generators are memory-efficient and used when:\n",
        "\n",
        "You want to produce a sequence of values\n",
        "\n",
        "You don’t want to store the entire sequence in memory\n",
        "\n",
        "🔹 How is a Generator Defined?\n",
        "You define a generator just like a normal function, but instead of return, you use yield.\n",
        "\n",
        "🔸 Example:\n",
        "python\n",
        "Copy\n",
        "Edit\n"
      ],
      "metadata": {
        "id": "LcMCQMNsC6aW"
      }
    },
    {
      "cell_type": "code",
      "source": [
        "def count_up_to(n):\n",
        "    i = 1\n",
        "    while i <= n:\n",
        "        yield i\n",
        "        i += 1\n"
      ],
      "metadata": {
        "id": "vFHfp_4oC_NC"
      },
      "execution_count": null,
      "outputs": []
    },
    {
      "cell_type": "markdown",
      "source": [
        "Now, let's use it:"
      ],
      "metadata": {
        "id": "ZROnAL1hDHON"
      }
    },
    {
      "cell_type": "code",
      "source": [
        "gen = count_up_to(3)\n",
        "\n",
        "print(next(gen))  # Output: 1\n",
        "print(next(gen))  # Output: 2\n",
        "print(next(gen))  # Output: 3\n",
        "print(next(gen))  # Raises StopIteration\n"
      ],
      "metadata": {
        "id": "thw8hpTvDBMX"
      },
      "execution_count": null,
      "outputs": []
    },
    {
      "cell_type": "markdown",
      "source": [
        "Each time next() is called, the generator resumes from where it last left off.\n",
        "\n",
        "🔹 Key Features of Generators:\n",
        "Uses yield instead of return\n",
        "\n",
        "Returns an iterator\n",
        "\n",
        "Remembers the state between calls\n",
        "\n",
        "Executes code lazily (only when needed)\n",
        "\n",
        "Saves memory (doesn’t store all values at once)\n",
        "\n",
        "🔸 When to Use Generators:\n",
        "Reading large files line by line\n",
        "\n",
        "Streaming data\n",
        "\n",
        "Working with infinite sequences\n",
        "\n",
        "When memory is limited\n",
        "\n",
        "✅ Summary:\n",
        "Generators are functions with yield\n",
        "\n",
        "They return values one at a time\n",
        "\n",
        "They are faster and use less memory than regular functions that return lists\n",
        "\n",
        "Want me to show a generator vs regular function comparison example?"
      ],
      "metadata": {
        "id": "dJZXoI-IDPVw"
      }
    },
    {
      "cell_type": "markdown",
      "source": [
        "7.) What are the advantages of using generators over regular functions?"
      ],
      "metadata": {
        "id": "3I4Gn8uN8B1J"
      }
    },
    {
      "cell_type": "markdown",
      "source": [
        "✅ Advantages of Generators in Python\n",
        "🔹 1. Memory Efficient\n",
        "Generators do not store all values in memory.\n",
        "\n",
        "They generate items one by one, only when needed.\n",
        "\n",
        "Useful when working with large data or infinite sequences.\n",
        "\n",
        "Example:"
      ],
      "metadata": {
        "id": "Wdi8bWSADgYy"
      }
    },
    {
      "cell_type": "code",
      "source": [
        "def count_up_to(n):\n",
        "    i = 1\n",
        "    while i <= n:\n",
        "        yield i\n",
        "        i += 1\n"
      ],
      "metadata": {
        "id": "r7GIYC-6DjuP"
      },
      "execution_count": null,
      "outputs": []
    },
    {
      "cell_type": "markdown",
      "source": [
        "Even if n is 1 million, the function doesn’t create a list of 1 million numbers — it yields one number at a time.\n",
        "\n",
        "🔹 2. Faster Execution (for large data)\n",
        "Since values are generated on-the-fly, execution is faster and more responsive.\n",
        "\n",
        "Especially helpful when not all results are needed at once.\n",
        "\n",
        "🔹 3. Lazy Evaluation\n",
        "A generator executes only when next() is called.\n",
        "\n",
        "This makes it ideal for streaming data or processing chunks.\n",
        "\n",
        "🔹 4. Cleaner Code\n",
        "Using yield makes code simpler and more readable than using manual state tracking with return.\n",
        "\n",
        "🔹 5. Can be Iterated Only Once\n",
        "Generators are single-use iterators.\n",
        "\n",
        "Once a value is generated, it’s gone — helps prevent accidental memory waste.\n",
        "\n",
        "🔹 6. Great for Pipelines\n",
        "Generators can be chained together to process data step-by-step without loading it all at once.\n",
        "\n",
        "✅ Summary:\n",
        "Generators are:\n",
        "\n",
        "Memory-efficient\n",
        "\n",
        "Faster for large or infinite data\n",
        "\n",
        "Easy to write and use\n",
        "\n",
        "Good for streaming and pipelines\n",
        "\n",
        "Let me know if you want a side-by-side example of generator vs normal function!"
      ],
      "metadata": {
        "id": "0jDOL_HMDqW6"
      }
    },
    {
      "cell_type": "markdown",
      "source": [
        "8.)What is a lambda function in Python and when is it typically used?"
      ],
      "metadata": {
        "id": "M4wL-AuS82rB"
      }
    },
    {
      "cell_type": "markdown",
      "source": [
        "A lambda function is a small, anonymous (nameless) function defined using the lambda keyword.\n",
        "\n",
        "It is used to write quick, one-line functions without using def.\n",
        "\n",
        "🔹 Syntax:"
      ],
      "metadata": {
        "id": "cJxW0pJyEGs6"
      }
    },
    {
      "cell_type": "code",
      "source": [
        "lambda arguments: expression\n"
      ],
      "metadata": {
        "id": "batRQPM-EKkj"
      },
      "execution_count": null,
      "outputs": []
    },
    {
      "cell_type": "code",
      "source": [
        "# Normal function\n",
        "def square(x):\n",
        "    return x * x\n",
        "\n",
        "# Lambda function (same as above)\n",
        "square = lambda x: x * x\n",
        "\n",
        "print(square(5))  # Output: 25\n"
      ],
      "metadata": {
        "id": "BZnBJbF-ENOO"
      },
      "execution_count": null,
      "outputs": []
    },
    {
      "cell_type": "markdown",
      "source": [
        "✅ When to Use Lambda Functions:\n",
        "Lambda functions are typically used when you need a short function for a short time, especially as an argument to higher-order functions like:\n",
        "\n",
        "🔹 1. With map()"
      ],
      "metadata": {
        "id": "7p-rApwZER33"
      }
    },
    {
      "cell_type": "code",
      "source": [
        "nums = [1, 2, 3, 4]\n",
        "squared = list(map(lambda x: x*x, nums))\n",
        "print(squared)  # Output: [1, 4, 9, 16]\n"
      ],
      "metadata": {
        "id": "2mhUrgqcEXYB"
      },
      "execution_count": null,
      "outputs": []
    },
    {
      "cell_type": "markdown",
      "source": [
        "🔹 2. With filter()\n",
        "python\n",
        "Copy\n",
        "Edit\n"
      ],
      "metadata": {
        "id": "BgEpJq59Ecv2"
      }
    },
    {
      "cell_type": "code",
      "source": [
        "nums = [1, 2, 3, 4, 5]\n",
        "even = list(filter(lambda x: x % 2 == 0, nums))\n",
        "print(even)  # Output: [2, 4]\n"
      ],
      "metadata": {
        "id": "rTC23WU0EloM"
      },
      "execution_count": null,
      "outputs": []
    },
    {
      "cell_type": "markdown",
      "source": [
        "🔹 3. With sorted()"
      ],
      "metadata": {
        "id": "2uiMUJs0EqTS"
      }
    },
    {
      "cell_type": "code",
      "source": [
        "names = ['Jitu', 'Ajay', 'Nina']\n",
        "sorted_names = sorted(names, key=lambda x: x[-1])\n",
        "print(sorted_names)  # Sorted by last character\n"
      ],
      "metadata": {
        "id": "ZfYz5UyXEtBN"
      },
      "execution_count": null,
      "outputs": []
    },
    {
      "cell_type": "markdown",
      "source": [
        "✅ Summary:\n",
        "Lambda = one-line anonymous function\n",
        "\n",
        "Used for simple logic like math or filtering\n",
        "\n",
        "Common with map(), filter(), sorted(), etc."
      ],
      "metadata": {
        "id": "OubPwKDmEylk"
      }
    },
    {
      "cell_type": "markdown",
      "source": [
        "9)Explain the purpose and usage of the `map()` function in Python."
      ],
      "metadata": {
        "id": "ODOqt4sq9IhZ"
      }
    },
    {
      "cell_type": "markdown",
      "source": [
        "✅ Purpose of map() in Python\n",
        "The map() function is used to apply a function to every item in an iterable (like a list, tuple, etc.) and return a new iterable (usually converted to a list).\n",
        "\n",
        "🔹 Syntax:"
      ],
      "metadata": {
        "id": "4KG0choqFBz7"
      }
    },
    {
      "cell_type": "code",
      "source": [
        "map(function, iterable)\n"
      ],
      "metadata": {
        "id": "6Wxg25TAFEPV"
      },
      "execution_count": null,
      "outputs": []
    },
    {
      "cell_type": "markdown",
      "source": [
        "function: a function to apply\n",
        "\n",
        "iterable: like a list, tuple, etc.\n",
        "\n"
      ],
      "metadata": {
        "id": "i2zsWHezFKme"
      }
    },
    {
      "cell_type": "markdown",
      "source": [
        "🔸 Example 1: Square all numbers in a list"
      ],
      "metadata": {
        "id": "JxWrpcroFnjL"
      }
    },
    {
      "cell_type": "code",
      "source": [
        "nums = [1, 2, 3, 4]\n",
        "squared = list(map(lambda x: x ** 2, nums))\n",
        "print(squared)  # Output: [1, 4, 9, 16]\n"
      ],
      "metadata": {
        "id": "LmETqrFoFp3T"
      },
      "execution_count": null,
      "outputs": []
    },
    {
      "cell_type": "markdown",
      "source": [
        "The lambda x: x ** 2 is applied to each element in the nums list."
      ],
      "metadata": {
        "id": "UVHTz2ZPFyyj"
      }
    },
    {
      "cell_type": "markdown",
      "source": [
        "Example 2: Convert strings to uppercase"
      ],
      "metadata": {
        "id": "C1afiW8oF8Ci"
      }
    },
    {
      "cell_type": "code",
      "source": [
        "names = ['jitu', 'ajay', 'nina']\n",
        "upper_names = list(map(str.upper, names))\n",
        "print(upper_names)  # Output: ['JITU', 'AJAY', 'NINA']\n"
      ],
      "metadata": {
        "id": "leZHkLoSF_FA"
      },
      "execution_count": null,
      "outputs": []
    },
    {
      "cell_type": "markdown",
      "source": [
        " Key Points About map():\n",
        "It returns a map object (an iterator), so you usually wrap it in list() or use a for loop.\n",
        "\n",
        "It is faster than using a for loop in some cases.\n",
        "\n",
        "Works great with lambda functions for quick operations.\n",
        "\n",
        "🔹 Use Cases:\n",
        "Data transformation\n",
        "\n",
        "Applying a formula to many values\n",
        "\n",
        "Converting data types (like int, str, etc.)\n",
        "\n",
        "✅ Summary:\n",
        "map() applies a function to every element of an iterable.\n",
        "\n",
        "It returns a new map object (you can convert it to a list).\n",
        "\n",
        "It’s commonly used with lambda functions for clean, short code."
      ],
      "metadata": {
        "id": "hSxWT0cJGFxE"
      }
    },
    {
      "cell_type": "markdown",
      "source": [
        "10)What is the difference between `map()`, `reduce()`, and `filter()` functions in Python?"
      ],
      "metadata": {
        "id": "bf1WCAdr-e4c"
      }
    },
    {
      "cell_type": "markdown",
      "source": [
        "These three functions — map(), filter(), and reduce() — are commonly used for functional programming in Python. Let's clearly understand the difference between them.\n",
        "\n",
        "✅ 1. map()\n",
        "Purpose: Applies a function to each item in an iterable and returns a new iterable (usually a list).\n",
        "\n",
        "Use: Transform data.\n",
        "\n",
        "Example:"
      ],
      "metadata": {
        "id": "4q2J3kAsGeLo"
      }
    },
    {
      "cell_type": "code",
      "source": [
        "nums = [1, 2, 3]\n",
        "squared = list(map(lambda x: x**2, nums))\n",
        "print(squared)  # Output: [1, 4, 9]\n"
      ],
      "metadata": {
        "id": "fA8B0jciGheA"
      },
      "execution_count": null,
      "outputs": []
    },
    {
      "cell_type": "markdown",
      "source": [
        "✅ 2. filter()\n",
        "Purpose: Filters items from an iterable based on a condition (function that returns True or False).\n",
        "\n",
        "Use: Select only certain items.\n",
        "\n",
        "Example:"
      ],
      "metadata": {
        "id": "jGQ9G5g5GpIa"
      }
    },
    {
      "cell_type": "code",
      "source": [
        "nums = [1, 2, 3, 4, 5]\n",
        "evens = list(filter(lambda x: x % 2 == 0, nums))\n",
        "print(evens)  # Output: [2, 4]\n"
      ],
      "metadata": {
        "id": "xzj9FUf0GqZo"
      },
      "execution_count": null,
      "outputs": []
    },
    {
      "cell_type": "markdown",
      "source": [
        "✅ 3. reduce() (needs to be imported from functools)\n",
        "Purpose: Reduces an iterable to a single value by applying a function cumulatively.\n",
        "\n",
        "Use: Combine all elements.\n",
        "\n",
        "Example:"
      ],
      "metadata": {
        "id": "cRSnT6sZGxYy"
      }
    },
    {
      "cell_type": "code",
      "source": [
        "from functools import reduce\n",
        "\n",
        "nums = [1, 2, 3, 4]\n",
        "product = reduce(lambda x, y: x * y, nums)\n",
        "print(product)  # Output: 24\n"
      ],
      "metadata": {
        "id": "CyPXX5KFG0YH"
      },
      "execution_count": null,
      "outputs": []
    },
    {
      "cell_type": "markdown",
      "source": [
        "🔸 Key Differences:\n",
        "Feature\tmap()\tfilter()\treduce()\n",
        "Applies to\tEvery item\tItems that meet a condition\tAll items cumulatively\n",
        "Returns\tIterable with transformed data\tFiltered items\tA single result\n",
        "Function Type\tFunction that transforms data\tFunction that returns True/False\tFunction with two inputs\n",
        "Output Example\t[1, 4, 9]\t[2, 4]\t24\n",
        "\n",
        "✅ Summary:\n",
        "Use map() when you want to transform each element.\n",
        "\n",
        "Use filter() when you want to select elements.\n",
        "\n",
        "Use reduce() when you want to combine everything into one value."
      ],
      "metadata": {
        "id": "eLry9S1nG9dH"
      }
    },
    {
      "cell_type": "markdown",
      "source": [
        "11.) Using pen & Paper write the internal mechanism for sum operation using  reduce function on this given\n",
        "list:[47,11,42,13]"
      ],
      "metadata": {
        "id": "VP3yFFJaHe7-"
      }
    },
    {
      "cell_type": "markdown",
      "source": [
        "[link text](https://drive.google.com/file/d/1Hy4GNuWukyHZg70574rEMR0GFL5uDjXM/view?usp=drive_link)"
      ],
      "metadata": {
        "id": "KZsYlO5yNav2"
      }
    }
  ]
}